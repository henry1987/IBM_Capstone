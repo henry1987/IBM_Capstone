{
 "cells": [
  {
   "cell_type": "markdown",
   "metadata": {},
   "source": [
    "# Capstone Project - The Battle of Neighborhoods (Week 1)"
   ]
  },
  {
   "cell_type": "markdown",
   "metadata": {},
   "source": [
    "## 1. Introduction Section"
   ]
  },
  {
   "cell_type": "markdown",
   "metadata": {},
   "source": [
    "### Business Problem:"
   ]
  },
  {
   "cell_type": "markdown",
   "metadata": {},
   "source": [
    "My client has been renting an apartment at weat San Jose (zip code is 95129) area more than ten years. The leasing rate of a two beds room apartment has been raising dramatically since the crashing of economic bubble in 2008. He pays around 4,500 for his small town house now rather than 2,200 per month ten years ago. My client is pushing me lately to do a search for buying a house at Silicon Valley if the environment is good and the price is within his budget. I am very excited and want to use this opportunity to practice what I've learned so far from this course. My client's key question is : How can he find a convenient and enjoyable place similar to his current residence area? I am planning to use the FourSquare API that we learned at this course and some real estate API (such as ZillowAPI) and web sites in the market such as ZillowAPI for example. The idea is to use this chance to apply the knowledge and tools I have learned so far. Here below are the requirements from my client:\n",
    "\n",
    "- The ammenities in the selected neighborhood shall be similar to his current residence apartment\n",
    "- The price is around 1.5M \n",
    "- House must be at least 3 bedrooms, 2 bathrooms, 1 car garage, around 1800 to 2100 square footage of size\n",
    "- Near the park (within 0.5 mile)\n",
    "- Near the library (within 1 mile)\n",
    "- Near the school (within 0.5 mile)\n",
    "- The schools in the area should have high rating (Ranking greater than 8)\n",
    "- Not close the railroad (at least 3 mile away)\n",
    "- The location is near the supermarket within 0.5 mile radius\n",
    "- The location is near the shopping mall within 3 mile radius\n",
    "- The location is close (within 1 mile) to venues such as restaurants (Asian and Mexican foods ...etc), parks and coffee shops\n",
    "- The neighborhood/community should be safe and have low crime rate\n",
    "\n",
    "Base on the requirements listed above, I finalize the business problem as:\n",
    "\n",
    "**How to find a suitable house which complies with the requirements on price, features, safety, location and venues?**\n",
    "\n"
   ]
  },
  {
   "cell_type": "markdown",
   "metadata": {},
   "source": [
    "### The audience who would be interested in this project:\n",
    "This case is also applicable for anyone interested in exploring the ways of searching and analysis the location and real estate data for finding a suitable house to buy in Silicon Valley"
   ]
  },
  {
   "cell_type": "markdown",
   "metadata": {},
   "source": [
    "## 2. Data Section"
   ]
  },
  {
   "cell_type": "markdown",
   "metadata": {},
   "source": [
    "#### The following data is required to answer the questions of the business problem:\n",
    "- List of public schools in Santa Clara county with their location data [https://data.sccgov.org/Education/SchoolsPublic/q83h-ht3q]\n",
    "- List of parks in Santa Clara county with their location data [https://data.sccgov.org/Environment/ParkPoints/3t3k-gian]\n",
    "- List of railroad station in Santa Clara county with their location data [https://data.sccgov.org/Transportation/RailroadStations/9wv8-3ekq]\n",
    "- List of public library in Santa Clara county with their location data [https://data.sccgov.org/Government/Libraries/xxrb-pj5j]\n",
    "- List of crime report in Santa Clara county with their location data [https://data.sccgov.org/Public-Safety/Crime-Reports/n9u6-aijz/data]\n",
    "- Clifornia Santa Clara county school rating data [https://school-ratings.com/counties/Santa_Clara.html]\n",
    "- House price trend data of the cities in Silicon Valley [https://julianalee.com/trends.htm]\n",
    "- List of just sold house dataset based on zip code [https://julianalee.com/zip-code/95124/95124-home-sales.htm]\n",
    "- Data from Zillow API for comparable house sales analysis [https://github.com/asclepiusaka/zillowAPI]\n",
    "- Most current list of houses for sale in each neighborhoods from real estate website with their addresses, price and selling information [https://julianalee.com/real-estate/property-organizer-view-saved-search/10279348/]\n",
    "- Data from Foursquare API [https://developer.foursquare.com/docs]"
   ]
  },
  {
   "cell_type": "markdown",
   "metadata": {},
   "source": [
    "#### The data will be used as follows:\n",
    "1. Use geopy Nominatim to find out the latitude and longitude of current resident apartment\n",
    "2. Apply FourSquare to find 10 venues around current residence in San Jose\n",
    "3. Map current residence place with 10 venues\n",
    "4. Schools Datasets: Based on client's house buying criteria, the school ranking (Ranking greater than 8) is a major factor of consideration. Therefore, we download the public school information dataset from the Santa Clara county. The goal is to show those schools with their school ranking on the map to help house selection\n",
    "5. Parks dataset: My client is considering the potential residence community should be close (within 0.5 mile) to parks. So, we download the parks dataset from Santa Clara county's open data repository. The parks will be shown on the map to help house buying decision\n",
    "6. Railroad stations dataset: My client raised a concern about the noise about the trains. So, the potential candidates should not be too close (at least 3 mile away) to the railroad stations. The station will be shown on the map to help my client making buying decision\n",
    "7. Public Libraries dataset: My client enjoy going to libraries. The candidates must be convinent to access the libraries from their potential home (within 1 mile). The libraries will be shown on the map to help decision making.\n",
    "8. Crime Reports dataset: The safety is the most important factor while considering buying a house. My client emphasize that he won't buy a house in the area with higher crime rate even it is cheaper. The county provide a huge dataset that contains more the one hundred and fifty thousand records. We have to clean up all those data and only keep those which are essential and suitable for visualization.\n",
    "9. House price trends data: My client is aiming at an affortable price within 1.5M so the price chart of each city/zipcode can provide him better direction of house hunting.\n",
    "10. Process the ZIP code and Cities: Since we can not obtain the exact boundaries and the town center of each city or zip code, the best alternative is to utilize the schools dataset which contains all the location data for each school. Usually, the higher the school density the more families live there. This can be used to find out where is the city center located.\n",
    "11. Explore Cities in Santa Clara County: This is the most important part since my client enjoy his current environment and facilities. He would like to find a new home however he doesn't want to change too much. So, he wants to find a place where has similar environment with his current resident area. This includes the food restaurant, coffee shops, gynastics, parks, libraries, ...etc. As used in the course, Foursquare API is very useful to gather all those data and then we can do the clustering analysis. Eventually, we would like to provide a vitualization map where the most similar cities and communities are grouped together to our clients.\n",
    "12. Analyze Each Neighborhood/city: Group rows by neighborhood and by taking the mean value of the frequency of occurrence of each category. We will map out each neighborhood along with the top 5 most common venues.\n",
    "13. Clusterring Cities/Zipcodes\n",
    "14. Recent Sold House Price Data: We can use geopy Nominatim library to get the latitude and longitude values. The goal is to show those houses with features and sold price on the map to help decision making.\n",
    "15. House Comparable Sales Analysis: Use Zillow API to get house features from Zillow real estate database\n",
    "\n",
    "#### The procesing of these DATA will allow to answer following key questions to make the buying decision:\n",
    "\n",
    "- Which city/zipcode is good to consider while considering the price (less than 1.5M)?\n",
    "- Which city/zipcode is good to consider while considering the school (within 0.5 mile and ranking >= 8)?\n",
    "- Which city/zipcode is good to consider while considering the park (within 0.5 mile)?\n",
    "- Which city/zipcode is good to consider while considering the library (within 1 mile)?\n",
    "- Which city/zipcode is good to consider while considering the railroad (at least 3 mile away)?\n",
    "- Which city/zipcode is good to consider while considering the supermarket (0.5 mile radius)?\n",
    "- Which city/zipcode is good to consider while considering the shopping mall (within 3 mile radius)?\n",
    "- Which city/zipcode is good to consider while considering the restaurants (Asian and Mexican foods ...etc), parks and coffee shops?\n",
    "- Which city/zipcode is good to consider while considering the safety (low crime rate)?\n",
    "- What is the cost of sale (per square ft, total price and features)?\n",
    "- What is the area of San Jose with best housing pricing that meets criteria established?\n",
    "- What are the venues of the two best house to buy? How the prices comparison?\n",
    "- How venues distribute among San Jose neighborhoods and around shopping mall?\n",
    "- Are there tradeoffs between size and price and location?\n",
    "- Any other interesting statistical data findings from the ZillowAPI real estate data?"
   ]
  },
  {
   "cell_type": "markdown",
   "metadata": {},
   "source": [
    "## 3.\tMethodology section"
   ]
  },
  {
   "cell_type": "markdown",
   "metadata": {},
   "source": [
    "## 4.\tResults section"
   ]
  },
  {
   "cell_type": "markdown",
   "metadata": {},
   "source": [
    "## 5.\tDiscussion section"
   ]
  },
  {
   "cell_type": "markdown",
   "metadata": {},
   "source": [
    "## 6.\tConclusion section"
   ]
  }
 ],
 "metadata": {
  "kernelspec": {
   "display_name": "Python 3",
   "language": "python",
   "name": "python3"
  },
  "language_info": {
   "codemirror_mode": {
    "name": "ipython",
    "version": 3
   },
   "file_extension": ".py",
   "mimetype": "text/x-python",
   "name": "python",
   "nbconvert_exporter": "python",
   "pygments_lexer": "ipython3",
   "version": "3.6.3"
  }
 },
 "nbformat": 4,
 "nbformat_minor": 2
}
